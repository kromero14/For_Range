{
  "nbformat": 4,
  "nbformat_minor": 0,
  "metadata": {
    "colab": {
      "provenance": [],
      "authorship_tag": "ABX9TyN9QHeNjxipYP/RTJvlrOdo",
      "include_colab_link": true
    },
    "kernelspec": {
      "name": "python3",
      "display_name": "Python 3"
    },
    "language_info": {
      "name": "python"
    }
  },
  "cells": [
    {
      "cell_type": "markdown",
      "metadata": {
        "id": "view-in-github",
        "colab_type": "text"
      },
      "source": [
        "<a href=\"https://colab.research.google.com/github/kromero14/For_Range/blob/main/for_1.ipynb\" target=\"_parent\"><img src=\"https://colab.research.google.com/assets/colab-badge.svg\" alt=\"Open In Colab\"/></a>"
      ]
    },
    {
      "cell_type": "markdown",
      "source": [
        "# Para que sirve el for\n",
        "- El for es una estructura de control utilizada en muchos lenguajes de programación, incluyendo Python, C, Java y otros. Sirve para repetir un bloque de código un número específico de veces o para iterar sobre una secuencia de elementos, como una lista, un rango de números, etc."
      ],
      "metadata": {
        "id": "x2alKVcBVYhz"
      }
    },
    {
      "cell_type": "code",
      "execution_count": 3,
      "metadata": {
        "colab": {
          "base_uri": "https://localhost:8080/"
        },
        "id": "qgbVyr89R1qj",
        "outputId": "3da50724-4075-472a-b0a2-9b81cdaba4d0"
      },
      "outputs": [
        {
          "output_type": "stream",
          "name": "stdout",
          "text": [
            "holaaaaaa\n"
          ]
        }
      ],
      "source": [
        "numeros = [1, 2, 3, 4, 5]\n",
        "for numero in numeros:\n",
        "    print(numero)\n"
      ]
    },
    {
      "cell_type": "markdown",
      "source": [
        "# Para que sirve el range\n",
        "range() es una función en Python que genera una secuencia de números enteros dentro de un rango especificado. Es comúnmente utilizada en combinación con el bucle for para iterar sobre una secuencia de números."
      ],
      "metadata": {
        "id": "wQSFNpLfWDNy"
      }
    },
    {
      "cell_type": "code",
      "source": [
        "# Imprimir los números del 0 al 4\n",
        "for i in range(5):\n",
        "    print(i)\n",
        "\n",
        "# Imprimir los números del 2 al 6\n",
        "for i in range(2, 7):\n",
        "    print(i)\n",
        "\n",
        "# Imprimir los números pares del 0 al 10\n",
        "for i in range(0, 11, 2):\n",
        "    print(i)\n"
      ],
      "metadata": {
        "colab": {
          "base_uri": "https://localhost:8080/"
        },
        "id": "tRs7vndxWDi0",
        "outputId": "9c3fa80b-a6e4-4a6a-93fc-41ba8aa5e2e3"
      },
      "execution_count": 5,
      "outputs": [
        {
          "output_type": "stream",
          "name": "stdout",
          "text": [
            "0\n",
            "1\n",
            "2\n",
            "3\n",
            "4\n",
            "2\n",
            "3\n",
            "4\n",
            "5\n",
            "6\n",
            "0\n",
            "2\n",
            "4\n",
            "6\n",
            "8\n",
            "10\n"
          ]
        }
      ]
    }
  ]
}